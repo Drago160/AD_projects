{
 "cells": [
  {
   "cell_type": "code",
   "execution_count": 211,
   "id": "11de38d1",
   "metadata": {},
   "outputs": [],
   "source": [
    "import numpy as np\n",
    "import typing as tp\n",
    "\n",
    "def find_dist_matr(A: np.ndarray, B:np.ndarray) -> np.ndarray:\n",
    "    A1 = np.expand_dims(A.transpose(), axis = 0)\n",
    "    B1 = np.expand_dims(B, axis = 2)\n",
    "    D = ((A1 - B1)*(A1 - B1)).sum(axis = 1)\n",
    "    return D\n",
    "\n",
    "def find_nearest_points(A: np.ndarray, B: np.ndarray, k: int) -> np.ndarray:\n",
    "    m = B.shape[0]\n",
    "    Dists = find_dist_matr(A, B)\n",
    "    Idxs = np.argsort(Dists)\n",
    "    Sorted_Idxs = np.sort(Idxs)\n",
    "    adv_idxs = np.arange(Idxs.shape[0])[:,None], Idxs.argsort(axis = 1)\n",
    "    return Sorted_Idxs[adv_idxs][:,:k] + 1"
   ]
  },
  {
   "cell_type": "code",
   "execution_count": 212,
   "id": "c4614222",
   "metadata": {},
   "outputs": [],
   "source": [
    "def my_find_nearest_points(A: np.ndarray, B: np.ndarray, k: int) -> np.ndarray:\n",
    "    dists = list()\n",
    "    lowests = list()\n",
    "    for i in range(len(B)):\n",
    "        lowests.append(list())\n",
    "        dists.clear()\n",
    "        for j in range(len(A)):\n",
    "            dists.append(((B[i] - A[j])*(B[i] - A[j])).sum())\n",
    "        D = dists.copy()\n",
    "        dists.sort()\n",
    "        for j in range(len(A)):\n",
    "            if D[j] <= dists[k - 1]:\n",
    "                lowests[i].append(j + 1)\n",
    "    return np.array(lowests)"
   ]
  },
  {
   "cell_type": "code",
   "execution_count": 213,
   "id": "8c24cdb9",
   "metadata": {},
   "outputs": [
    {
     "name": "stdout",
     "output_type": "stream",
     "text": [
      "[[3.70117488e+01 8.29034931e+01 7.43638762e+00 7.69160596e+01\n",
      "  2.61644382e+00]\n",
      " [4.26085180e+01 3.21383953e+01 2.97374752e+01 1.87492694e+01\n",
      "  3.64998630e+01]\n",
      " [6.42031554e+01 1.15578337e+02 3.02558417e+00 7.63004892e+01\n",
      "  1.22959134e+01]\n",
      " [8.27772258e+01 9.59075990e+01 6.24063948e+00 2.13216899e+01\n",
      "  3.69207443e+01]\n",
      " [3.42075743e-02 2.25358070e+01 6.58779923e+01 1.13869627e+02\n",
      "  2.09465177e+01]]\n",
      "\n",
      "[[4 2 0 3 1]\n",
      " [3 2 1 4 0]\n",
      " [2 4 0 3 1]\n",
      " [2 3 4 0 1]\n",
      " [0 4 1 2 3]]\n",
      "\n",
      "[4 2 0 3 1]\n",
      "(array([1, 2, 4]),)\n",
      "\n",
      "[[3 5 2]\n",
      " [5 3 2]\n",
      " [3 5 1]\n",
      " [4 5 1]\n",
      " [1 3 4]]\n"
     ]
    }
   ],
   "source": [
    "np.random.seed(31)\n",
    "\n",
    "A = np.random.uniform(0, 10, size=(5, 2))\n",
    "B = np.random.uniform(0, 10, size=(5, 2))\n",
    "pans = find_nearest_points(A, B, 3)\n",
    "#jans = my_find_nearest_points(A, B, 3)\n",
    "print(pans)\n",
    "#print(jans)\n",
    "#np.all(pans == jans)"
   ]
  },
  {
   "cell_type": "code",
   "execution_count": 52,
   "id": "a861dbb7",
   "metadata": {},
   "outputs": [
    {
     "name": "stdout",
     "output_type": "stream",
     "text": [
      "Dists: \n",
      "[[1 2 5]\n",
      " [5 2 1]]\n",
      "\n",
      "[1 2 5]\n",
      "ArgSort: \n",
      "[[0 1 2]\n",
      " [2 1 0]]\n",
      "\n",
      "[[0 1 2]\n",
      " [0 1 2]]\n"
     ]
    },
    {
     "data": {
      "text/plain": [
       "array([[1, 2],\n",
       "       [3, 2]])"
      ]
     },
     "execution_count": 52,
     "metadata": {},
     "output_type": "execute_result"
    }
   ],
   "source": [
    "A = np.array([\n",
    "  [0, 0],\n",
    "  [1, 0],\n",
    "  [2, 0]\n",
    "])\n",
    "\n",
    "B = np.array([\n",
    "  [0, 1],\n",
    "  [2, 1]\n",
    "])\n",
    "find_nearest_points(A, B, 2) "
   ]
  },
  {
   "cell_type": "code",
   "execution_count": 216,
   "id": "d7f9f4ef",
   "metadata": {},
   "outputs": [
    {
     "name": "stdout",
     "output_type": "stream",
     "text": [
      "[[3.70117488e+01 8.29034931e+01 7.43638762e+00 7.69160596e+01\n",
      "  2.61644382e+00]\n",
      " [4.26085180e+01 3.21383953e+01 2.97374752e+01 1.87492694e+01\n",
      "  3.64998630e+01]\n",
      " [6.42031554e+01 1.15578337e+02 3.02558417e+00 7.63004892e+01\n",
      "  1.22959134e+01]\n",
      " [8.27772258e+01 9.59075990e+01 6.24063948e+00 2.13216899e+01\n",
      "  3.69207443e+01]\n",
      " [3.42075743e-02 2.25358070e+01 6.58779923e+01 1.13869627e+02\n",
      "  2.09465177e+01]]\n"
     ]
    },
    {
     "data": {
      "text/plain": [
       "array([[4, 2, 0, 3, 1],\n",
       "       [3, 2, 1, 4, 0],\n",
       "       [2, 4, 0, 3, 1],\n",
       "       [2, 3, 4, 0, 1],\n",
       "       [0, 4, 1, 2, 3]])"
      ]
     },
     "execution_count": 216,
     "metadata": {},
     "output_type": "execute_result"
    }
   ],
   "source": [
    "m = B.shape[0]\n",
    "Dists = find_dist_matr(A, B)\n",
    "print(Dists)\n",
    "Idxs = np.argsort(Dists)\n",
    "Idxs"
   ]
  },
  {
   "cell_type": "code",
   "execution_count": null,
   "id": "7f38011a",
   "metadata": {},
   "outputs": [],
   "source": []
  }
 ],
 "metadata": {
  "kernelspec": {
   "display_name": "Python 3 (ipykernel)",
   "language": "python",
   "name": "python3"
  },
  "language_info": {
   "codemirror_mode": {
    "name": "ipython",
    "version": 3
   },
   "file_extension": ".py",
   "mimetype": "text/x-python",
   "name": "python",
   "nbconvert_exporter": "python",
   "pygments_lexer": "ipython3",
   "version": "3.10.9"
  }
 },
 "nbformat": 4,
 "nbformat_minor": 5
}
