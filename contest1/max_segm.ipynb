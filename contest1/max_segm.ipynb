{
 "cells": [
  {
   "cell_type": "code",
   "execution_count": 169,
   "id": "d1b0e02b",
   "metadata": {},
   "outputs": [],
   "source": [
    "import numpy as np\n",
    "import typing as tp\n",
    "\n",
    "def find_max_sum_segment(array: tp.List[int], k: int) -> int:\n",
    "    array = np.array(array)\n",
    "    n = array.size\n",
    "    Ones = np.ones(n)\n",
    "    UpperTriangle = np.triu(Ones, -k + 1)\n",
    "    LowerTriangle = np.tril(Ones, 0)\n",
    "    ChooseMatr = np.logical_and(UpperTriangle, LowerTriangle)\n",
    "    ChooseMatr = ChooseMatr[0:n, 0:n-k+1]\n",
    "    Sums = (((ChooseMatr.transpose())*(array.transpose())).sum(axis = 1))\n",
    "    return Sums.max()"
   ]
  },
  {
   "cell_type": "code",
   "execution_count": 167,
   "id": "ccb2f793",
   "metadata": {},
   "outputs": [
    {
     "name": "stdout",
     "output_type": "stream",
     "text": [
      "[3 5 7]\n"
     ]
    },
    {
     "data": {
      "text/plain": [
       "7"
      ]
     },
     "execution_count": 167,
     "metadata": {},
     "output_type": "execute_result"
    }
   ],
   "source": [
    "find_max_sum_segment(np.array([1, 2, 3, 4]), 2)"
   ]
  },
  {
   "cell_type": "code",
   "execution_count": 168,
   "id": "a8ac7678",
   "metadata": {},
   "outputs": [
    {
     "name": "stdout",
     "output_type": "stream",
     "text": [
      "[0, 1, 3, 6, 1, 1, 2, 7, 1, 7]\n",
      "[29]\n",
      "29\n"
     ]
    }
   ],
   "source": [
    "import random\n",
    "random.seed(31)\n",
    "array = random.choices(range(10), k=10)\n",
    "print(array)\n",
    "print(find_max_sum_segment(array, 10))"
   ]
  },
  {
   "cell_type": "code",
   "execution_count": 92,
   "id": "4a8ecf5e",
   "metadata": {},
   "outputs": [
    {
     "name": "stdout",
     "output_type": "stream",
     "text": [
      "[[ True False False False False False False False False False]\n",
      " [ True  True False False False False False False False False]\n",
      " [ True  True  True False False False False False False False]\n",
      " [ True  True  True  True False False False False False False]\n",
      " [False  True  True  True  True False False False False False]\n",
      " [False False  True  True  True  True False False False False]\n",
      " [False False False  True  True  True  True False False False]\n",
      " [False False False False  True  True  True  True False False]\n",
      " [False False False False False  True  True  True  True False]\n",
      " [False False False False False False  True  True  True  True]]\n"
     ]
    }
   ],
   "source": [
    "k = 4\n",
    "n = 10\n",
    "A = np.ones(n)\n",
    "TU = np.triu(A, -k+1)\n",
    "TL = np.tril(A, 0) \n",
    "Q = np.logical_and(TU, TL)\n",
    "print(Q)"
   ]
  },
  {
   "cell_type": "code",
   "execution_count": 97,
   "id": "00122f7e",
   "metadata": {},
   "outputs": [
    {
     "data": {
      "text/plain": [
       "5"
      ]
     },
     "execution_count": 97,
     "metadata": {},
     "output_type": "execute_result"
    }
   ],
   "source": [
    "find_max_sum_segment(np.array([1, 2, 3, 4, 5]), 3)"
   ]
  },
  {
   "cell_type": "code",
   "execution_count": 178,
   "id": "60609925",
   "metadata": {},
   "outputs": [
    {
     "name": "stdout",
     "output_type": "stream",
     "text": [
      "[[2.86053822 9.58105567]\n",
      " [7.70312932 9.86870003]\n",
      " [2.08165462 1.36917049]\n",
      " [9.08373802 0.68638518]\n",
      " [0.75332722 5.43534689]]\n",
      "\n",
      "[[0.89399717 3.82393268]\n",
      " [6.6856044  4.29169023]\n",
      " [0.43956307 1.94285989]\n",
      " [4.46659484 0.62573278]\n",
      " [2.97567282 9.436309  ]]\n"
     ]
    },
    {
     "data": {
      "text/plain": [
       "array([37.01174883, 82.90349312,  7.43638762, 76.9160596 ,  2.61644382])"
      ]
     },
     "execution_count": 178,
     "metadata": {},
     "output_type": "execute_result"
    }
   ],
   "source": [
    "np.random.seed(31)\n",
    "\n",
    "A = np.random.uniform(0, 10, size=(5, 2))\n",
    "B = np.random.uniform(0, 10, size=(5, 2))\n",
    "print(A)\n",
    "print()\n",
    "print(B)\n",
    "((A - B[0])*(A - B[0])).sum(axis = 1)"
   ]
  },
  {
   "cell_type": "code",
   "execution_count": 186,
   "id": "d82db34b",
   "metadata": {},
   "outputs": [
    {
     "name": "stdout",
     "output_type": "stream",
     "text": [
      "[[2.86053822 9.58105567]\n",
      " [7.70312932 9.86870003]\n",
      " [2.08165462 1.36917049]\n",
      " [9.08373802 0.68638518]\n",
      " [0.75332722 5.43534689]]\n"
     ]
    }
   ],
   "source": [
    "np.random.seed(31)\n",
    "A = np.random.uniform(0, 10, size=(5, 2))\n",
    "B = np.random.uniform(0, 10, size=(5, 2))\n",
    "print(A)"
   ]
  }
 ],
 "metadata": {
  "kernelspec": {
   "display_name": "Python 3 (ipykernel)",
   "language": "python",
   "name": "python3"
  },
  "language_info": {
   "codemirror_mode": {
    "name": "ipython",
    "version": 3
   },
   "file_extension": ".py",
   "mimetype": "text/x-python",
   "name": "python",
   "nbconvert_exporter": "python",
   "pygments_lexer": "ipython3",
   "version": "3.10.9"
  }
 },
 "nbformat": 4,
 "nbformat_minor": 5
}
