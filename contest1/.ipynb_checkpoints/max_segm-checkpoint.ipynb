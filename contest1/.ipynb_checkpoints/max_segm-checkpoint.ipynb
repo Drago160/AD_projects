{
 "cells": [
  {
   "cell_type": "code",
   "execution_count": 169,
   "id": "a3ef4002",
   "metadata": {},
   "outputs": [],
   "source": [
    "import numpy as np\n",
    "import typing as tp\n",
    "\n",
    "def find_max_sum_segment(array: tp.List[int], k: int) -> int:\n",
    "    array = np.array(array)\n",
    "    n = array.size\n",
    "    Ones = np.ones(n)\n",
    "    UpperTriangle = np.triu(Ones, -k + 1)\n",
    "    LowerTriangle = np.tril(Ones, 0)\n",
    "    ChooseMatr = np.logical_and(UpperTriangle, LowerTriangle)\n",
    "    ChooseMatr = ChooseMatr[0:n, 0:n-k+1]\n",
    "    Sums = (((ChooseMatr.transpose())*(array.transpose())).sum(axis = 1))\n",
    "    return Sums.max()"
   ]
  },
  {
   "cell_type": "code",
   "execution_count": 167,
   "id": "32f81425",
   "metadata": {},
   "outputs": [
    {
     "name": "stdout",
     "output_type": "stream",
     "text": [
      "[3 5 7]\n"
     ]
    },
    {
     "data": {
      "text/plain": [
       "7"
      ]
     },
     "execution_count": 167,
     "metadata": {},
     "output_type": "execute_result"
    }
   ],
   "source": [
    "find_max_sum_segment(np.array([1, 2, 3, 4]), 2)"
   ]
  },
  {
   "cell_type": "code",
   "execution_count": 168,
   "id": "55dfd9b9",
   "metadata": {},
   "outputs": [
    {
     "name": "stdout",
     "output_type": "stream",
     "text": [
      "[0, 1, 3, 6, 1, 1, 2, 7, 1, 7]\n",
      "[29]\n",
      "29\n"
     ]
    }
   ],
   "source": [
    "import random\n",
    "random.seed(31)\n",
    "array = random.choices(range(10), k=10)\n",
    "print(array)\n",
    "print(find_max_sum_segment(array, 10))"
   ]
  },
  {
   "cell_type": "code",
   "execution_count": 92,
   "id": "f2b39a76",
   "metadata": {},
   "outputs": [
    {
     "name": "stdout",
     "output_type": "stream",
     "text": [
      "[[ True False False False False False False False False False]\n",
      " [ True  True False False False False False False False False]\n",
      " [ True  True  True False False False False False False False]\n",
      " [ True  True  True  True False False False False False False]\n",
      " [False  True  True  True  True False False False False False]\n",
      " [False False  True  True  True  True False False False False]\n",
      " [False False False  True  True  True  True False False False]\n",
      " [False False False False  True  True  True  True False False]\n",
      " [False False False False False  True  True  True  True False]\n",
      " [False False False False False False  True  True  True  True]]\n"
     ]
    }
   ],
   "source": [
    "k = 4\n",
    "n = 10\n",
    "A = np.ones(n)\n",
    "TU = np.triu(A, -k+1)\n",
    "TL = np.tril(A, 0) \n",
    "Q = np.logical_and(TU, TL)\n",
    "print(Q)"
   ]
  },
  {
   "cell_type": "code",
   "execution_count": 97,
   "id": "9341d98a",
   "metadata": {},
   "outputs": [
    {
     "data": {
      "text/plain": [
       "5"
      ]
     },
     "execution_count": 97,
     "metadata": {},
     "output_type": "execute_result"
    }
   ],
   "source": [
    "find_max_sum_segment(np.array([1, 2, 3, 4, 5]), 3)"
   ]
  },
  {
   "cell_type": "code",
   "execution_count": 46,
   "id": "a9780f8b",
   "metadata": {},
   "outputs": [
    {
     "ename": "TypeError",
     "evalue": "only integer scalar arrays can be converted to a scalar index",
     "output_type": "error",
     "traceback": [
      "\u001b[0;31m---------------------------------------------------------------------------\u001b[0m",
      "\u001b[0;31mTypeError\u001b[0m                                 Traceback (most recent call last)",
      "Input \u001b[0;32mIn [46]\u001b[0m, in \u001b[0;36m<cell line: 1>\u001b[0;34m()\u001b[0m\n\u001b[0;32m----> 1\u001b[0m C \u001b[38;5;241m=\u001b[39m \u001b[43mnp\u001b[49m\u001b[38;5;241;43m.\u001b[39;49m\u001b[43mconcatenate\u001b[49m\u001b[43m(\u001b[49m\u001b[43mnp\u001b[49m\u001b[38;5;241;43m.\u001b[39;49m\u001b[43marray\u001b[49m\u001b[43m(\u001b[49m\u001b[43m[\u001b[49m\u001b[38;5;241;43m1\u001b[39;49m\u001b[43m]\u001b[49m\u001b[43m)\u001b[49m\u001b[43m,\u001b[49m\u001b[43m \u001b[49m\u001b[43mnp\u001b[49m\u001b[38;5;241;43m.\u001b[39;49m\u001b[43marray\u001b[49m\u001b[43m(\u001b[49m\u001b[43m[\u001b[49m\u001b[38;5;241;43m2\u001b[39;49m\u001b[43m]\u001b[49m\u001b[43m)\u001b[49m\u001b[43m)\u001b[49m\n\u001b[1;32m      2\u001b[0m A \u001b[38;5;241m=\u001b[39m np\u001b[38;5;241m.\u001b[39mtriu(np\u001b[38;5;241m.\u001b[39mones(\u001b[38;5;241m3\u001b[39m), \u001b[38;5;241m1\u001b[39m)\n\u001b[1;32m      3\u001b[0m B \u001b[38;5;241m=\u001b[39m np\u001b[38;5;241m.\u001b[39mtriu(np\u001b[38;5;241m.\u001b[39mones(\u001b[38;5;241m3\u001b[39m), \u001b[38;5;241m-\u001b[39m\u001b[38;5;241m1\u001b[39m)\n",
      "File \u001b[0;32m<__array_function__ internals>:180\u001b[0m, in \u001b[0;36mconcatenate\u001b[0;34m(*args, **kwargs)\u001b[0m\n",
      "\u001b[0;31mTypeError\u001b[0m: only integer scalar arrays can be converted to a scalar index"
     ]
    }
   ],
   "source": [
    "\n"
   ]
  }
 ],
 "metadata": {
  "kernelspec": {
   "display_name": "Python 3 (ipykernel)",
   "language": "python",
   "name": "python3"
  },
  "language_info": {
   "codemirror_mode": {
    "name": "ipython",
    "version": 3
   },
   "file_extension": ".py",
   "mimetype": "text/x-python",
   "name": "python",
   "nbconvert_exporter": "python",
   "pygments_lexer": "ipython3",
   "version": "3.10.9"
  }
 },
 "nbformat": 4,
 "nbformat_minor": 5
}
