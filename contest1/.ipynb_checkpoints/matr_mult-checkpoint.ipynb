{
 "cells": [
  {
   "cell_type": "code",
   "execution_count": 272,
   "id": "e094a1be",
   "metadata": {},
   "outputs": [],
   "source": [
    "import numpy as np\n",
    "import typing as tp\n",
    "\n",
    "def matrix_multiplication(A: np.ndarray, B: np.ndarray) -> np.ndarray:    \n",
    "    return ((np.expand_dims(A, axis = 2).reshape(A.shape[0], 1, A.shape[1]))*B.transpose()).sum(axis = 2)"
   ]
  },
  {
   "cell_type": "code",
   "execution_count": 275,
   "id": "c318946e",
   "metadata": {},
   "outputs": [
    {
     "name": "stdout",
     "output_type": "stream",
     "text": [
      "[[ 84  90  96]\n",
      " [ 84  90  96]\n",
      " [155 166 177]]\n",
      "[[ 84  90  96]\n",
      " [ 84  90  96]\n",
      " [155 166 177]]\n"
     ]
    }
   ],
   "source": []
  },
  {
   "cell_type": "code",
   "execution_count": null,
   "id": "19f76fcf",
   "metadata": {},
   "outputs": [],
   "source": []
  }
 ],
 "metadata": {
  "kernelspec": {
   "display_name": "Python 3 (ipykernel)",
   "language": "python",
   "name": "python3"
  },
  "language_info": {
   "codemirror_mode": {
    "name": "ipython",
    "version": 3
   },
   "file_extension": ".py",
   "mimetype": "text/x-python",
   "name": "python",
   "nbconvert_exporter": "python",
   "pygments_lexer": "ipython3",
   "version": "3.10.9"
  }
 },
 "nbformat": 4,
 "nbformat_minor": 5
}
